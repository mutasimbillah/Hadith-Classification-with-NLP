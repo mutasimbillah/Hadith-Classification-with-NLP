{
 "cells": [
  {
   "cell_type": "code",
   "execution_count": 33,
   "metadata": {},
   "outputs": [],
   "source": [
    "import gensim\n",
    "from gensim.models.word2vec import Word2Vec\n",
    "import gensim.downloader as api\n",
    "# Initialize WmdSimilarity.\n",
    "from gensim.similarities import WmdSimilarity"
   ]
  },
  {
   "cell_type": "code",
   "execution_count": 34,
   "metadata": {},
   "outputs": [],
   "source": [
    "import json\n",
    "# read file\n",
    "with open('example.json', 'r') as myfile:\n",
    "    data=myfile.read()"
   ]
  },
  {
   "cell_type": "code",
   "execution_count": 35,
   "metadata": {},
   "outputs": [],
   "source": [
    "data = json.loads(data)\n",
    "#print(data)\n",
    "#Data Link = https://sunnah.com/\n",
    "#data ="
   ]
  },
  {
   "cell_type": "code",
   "execution_count": 36,
   "metadata": {},
   "outputs": [
    {
     "name": "stderr",
     "output_type": "stream",
     "text": [
      "[nltk_data] Downloading package stopwords to\n",
      "[nltk_data]     C:\\Users\\Billah\\AppData\\Roaming\\nltk_data...\n",
      "[nltk_data]   Package stopwords is already up-to-date!\n",
      "[nltk_data] Downloading package punkt to\n",
      "[nltk_data]     C:\\Users\\Billah\\AppData\\Roaming\\nltk_data...\n",
      "[nltk_data]   Package punkt is already up-to-date!\n",
      "[nltk_data] Downloading package wordnet to\n",
      "[nltk_data]     C:\\Users\\Billah\\AppData\\Roaming\\nltk_data...\n",
      "[nltk_data]   Package wordnet is already up-to-date!\n"
     ]
    }
   ],
   "source": [
    "import nltk\n",
    "from nltk import word_tokenize\n",
    "from nltk.corpus import stopwords\n",
    "from nltk.stem.wordnet import WordNetLemmatizer\n",
    "\n",
    "nltk.download('stopwords')\n",
    "nltk.download('punkt')# Download data for tokenizer.\n",
    "\n",
    "nltk.download('wordnet')\n",
    "stop_words = stopwords.words('english')"
   ]
  },
  {
   "cell_type": "code",
   "execution_count": 37,
   "metadata": {},
   "outputs": [],
   "source": [
    "def lematize_list(words):\n",
    "    n = len(words)\n",
    "    for i in range(n):\n",
    "       w=words[i]\n",
    "       words[i] = WordNetLemmatizer().lemmatize(w,'v')\n",
    "       #print( words[i])\n",
    "    \n",
    "    return words"
   ]
  },
  {
   "cell_type": "code",
   "execution_count": 38,
   "metadata": {},
   "outputs": [],
   "source": [
    "def preprocess(doc):\n",
    "    doc = doc.lower()  # Lower the text.\n",
    "    doc = word_tokenize(doc)  # Split into words.\n",
    "    doc = [w for w in doc if not w in stop_words]  # Remove stopwords.\n",
    "    doc = [w for w in doc if w.isalpha()]  # Remove numbers and punctuation.\n",
    "    return doc"
   ]
  },
  {
   "cell_type": "code",
   "execution_count": 39,
   "metadata": {},
   "outputs": [],
   "source": [
    "instance = WmdSimilarity.load(\"FinalProjectForWeb\", mmap=None)"
   ]
  },
  {
   "cell_type": "code",
   "execution_count": 40,
   "metadata": {},
   "outputs": [
    {
     "name": "stdout",
     "output_type": "stream",
     "text": [
      "['friday', 'prayer', 'mandatory', 'women', 'sick', 'person', 'everyone', 'take', 'bath']\n"
     ]
    }
   ],
   "source": [
    "sent = 'is Friday prayer mandatory for women and sick person ? and should everyone take a bath'\n",
    "\n",
    "query = preprocess(sent)\n",
    "query = lematize_list(query)\n",
    "print (query)\n",
    "\n",
    "sims = instance[query] "
   ]
  },
  {
   "cell_type": "code",
   "execution_count": 41,
   "metadata": {},
   "outputs": [
    {
     "name": "stdout",
     "output_type": "stream",
     "text": [
      "\n",
      "Query :  is Friday prayer mandatory for women and sick person ? and should everyone take a bath\n",
      "\n",
      "\n",
      "Similarity =  0.599004031285916\n",
      "Anyone of you attending the Friday (prayers) should take a bath.\n",
      "\n",
      "\n",
      "Similarity =  0.5812446313999664\n",
      "The taking of a bath on Friday is compulsory for every male (Muslim) who has attained the age of puberty.\n",
      "\n",
      "\n",
      "Similarity =  0.5569088252634998\n",
      "The Friday prayer in congregation is a necessary duty for every Muslim, with four exceptions, a slave, a woman, a boy, and a sick person.\n",
      "\n"
     ]
    }
   ],
   "source": [
    "# Print the query and the retrieved documents, together with their similarities.\n",
    "print()\n",
    "print ('Query : ',sent)\n",
    "print()\n",
    "for i in range(3):\n",
    "    print()\n",
    "    print ( \"Similarity = \" , ( sims[i][1] ) )\n",
    "    print (data[sims[i][0]])\n",
    "    print()"
   ]
  },
  {
   "cell_type": "code",
   "execution_count": null,
   "metadata": {},
   "outputs": [],
   "source": []
  }
 ],
 "metadata": {
  "kernelspec": {
   "display_name": "Python 3",
   "language": "python",
   "name": "python3"
  },
  "language_info": {
   "codemirror_mode": {
    "name": "ipython",
    "version": 3
   },
   "file_extension": ".py",
   "mimetype": "text/x-python",
   "name": "python",
   "nbconvert_exporter": "python",
   "pygments_lexer": "ipython3",
   "version": "3.7.3"
  }
 },
 "nbformat": 4,
 "nbformat_minor": 2
}
